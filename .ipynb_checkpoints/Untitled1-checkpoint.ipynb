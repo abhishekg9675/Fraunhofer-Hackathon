{
 "cells": [
  {
   "cell_type": "code",
   "execution_count": 68,
   "id": "944ef128-c6b1-409c-bb5f-aeae1d9ba524",
   "metadata": {},
   "outputs": [],
   "source": [
    "import pandas as pd\n",
    "import datetime\n",
    "import re\n",
    "import math\n"
   ]
  },
  {
   "cell_type": "code",
   "execution_count": 69,
   "id": "7aec8ca1-7b35-41e8-9fc3-099f9d0c7173",
   "metadata": {},
   "outputs": [
    {
     "name": "stdout",
     "output_type": "stream",
     "text": [
      "  Oven     A0     A1     A2     A3     A4     A5     A6     B2     B3  ...  \\\n",
      "0   O1  260.0  260.0  390.0  390.0  400.0  400.0  400.0    NaN    NaN  ...   \n",
      "1   O2    NaN    NaN    NaN    NaN    NaN    NaN    NaN  240.0  240.0  ...   \n",
      "2   O3    NaN    NaN    NaN    NaN    NaN    NaN    NaN    NaN    NaN  ...   \n",
      "3   O4  260.0  260.0  390.0  390.0  400.0  400.0  400.0    NaN    NaN  ...   \n",
      "4   O5   60.0   60.0   60.0   60.0   60.0   60.0   60.0    NaN    NaN  ...   \n",
      "5   O6    NaN    NaN    NaN    NaN    NaN    NaN    NaN   60.0   60.0  ...   \n",
      "\n",
      "      C2     C3     C4     C5     C6  Blower B6  Blower B111  Blower B142  \\\n",
      "0    NaN    NaN    NaN    NaN    NaN        NaN          NaN          NaN   \n",
      "1    NaN    NaN    NaN    NaN    NaN      390.0        180.0        180.0   \n",
      "2  210.0  210.0  240.0  240.0  240.0        NaN          NaN          NaN   \n",
      "3    NaN    NaN    NaN    NaN    NaN        NaN          NaN          NaN   \n",
      "4   60.0   60.0   60.0   60.0   60.0        NaN         60.0         60.0   \n",
      "5    NaN    NaN    NaN    NaN    NaN       60.0          NaN          NaN   \n",
      "\n",
      "   Blower B146  Blower B200  \n",
      "0          NaN          NaN  \n",
      "1        180.0        180.0  \n",
      "2          NaN          NaN  \n",
      "3          NaN          NaN  \n",
      "4         60.0         60.0  \n",
      "5          NaN          NaN  \n",
      "\n",
      "[6 rows x 25 columns]\n"
     ]
    }
   ],
   "source": [
    "MAP = pd.read_excel (r'Combined.xlsx' , sheet_name='MAP')\n",
    "print(MAP)"
   ]
  },
  {
   "cell_type": "code",
   "execution_count": 43,
   "id": "ad5fa324-1792-496c-99ae-cefa23c8285f",
   "metadata": {},
   "outputs": [
    {
     "data": {
      "text/plain": [
       "'O1'"
      ]
     },
     "execution_count": 43,
     "metadata": {},
     "output_type": "execute_result"
    }
   ],
   "source": [
    "#MAP.columns[1]\n",
    "MAP.iloc[:, 0][0]"
   ]
  },
  {
   "cell_type": "code",
   "execution_count": 16,
   "id": "1e86b0c2-bd65-4a78-a075-f72e4f96aada",
   "metadata": {},
   "outputs": [
    {
     "name": "stdout",
     "output_type": "stream",
     "text": [
      "0    400.0\n",
      "1      NaN\n",
      "2      NaN\n",
      "3    400.0\n",
      "4     60.0\n",
      "5      NaN\n",
      "Name: A4, dtype: float64\n"
     ]
    }
   ],
   "source": [
    "data_iterate = []\n",
    "for column in MAP:\n",
    "    data_iterate.append(MAP[column])\n",
    "\n",
    "print(data_iterate[5])"
   ]
  },
  {
   "cell_type": "code",
   "execution_count": null,
   "id": "25d223a2-fe21-4e7a-b21d-247776e31e59",
   "metadata": {},
   "outputs": [],
   "source": [
    "task = ()\n",
    "data = {}\n",
    "data_iterate = []\n",
    "\n",
    "for column in MAP:\n",
    "    data_iterate.append(MAP[column])\n",
    "    \n",
    "    \n",
    "for i in range(len(MAP.columns)):\n",
    "    for j in range(len(MAP)):\n",
    "        if !math.isnan(data_iterate[i][j]): \n",
    "            job = ('MAP.columns[1]','MAP.iloc[:, 0]')\n",
    "            prev_job = job\n",
    "            duration_value = data_iterate[i][j]\n",
    "            prereq = False\n",
    "        \n",
    "        task.append(job)\n",
    "        data.update({'dur': duration_value})\n",
    "        data.update({'prec': prev_job})\n",
    "\n",
    "        \n",
    "my_dictionary = dict.fromkeys(task,data)\n",
    "        "
   ]
  },
  {
   "cell_type": "code",
   "execution_count": 67,
   "id": "56f78970-0219-4388-a3cf-12198b8daa22",
   "metadata": {},
   "outputs": [
    {
     "name": "stdout",
     "output_type": "stream",
     "text": [
      "{('Paris', 'xyz'): {'Eu': '5', 'prec': ('Paris', 'xyz')}, ('Athens', 'xyz'): {'Eu': '5', 'prec': ('Paris', 'xyz')}, ('Madrid', 'xyz'): {'Eu': '5', 'prec': ('Paris', 'xyz')}}\n"
     ]
    }
   ],
   "source": [
    "cities = (('Paris','xyz'),('Athens','xyz'), ('Madrid','xyz'))\n",
    "\n",
    "continent = {'Eu':'5', \"prec\":('Paris','xyz')}\n",
    "\n",
    "my_dictionary = dict.fromkeys(cities,continent)\n",
    "\n",
    "print(my_dictionary)\n",
    "\n"
   ]
  },
  {
   "cell_type": "code",
   "execution_count": null,
   "id": "05923011-3e12-4277-9327-d70f0941bf72",
   "metadata": {},
   "outputs": [],
   "source": []
  }
 ],
 "metadata": {
  "kernelspec": {
   "display_name": "Python 3 (ipykernel)",
   "language": "python",
   "name": "python3"
  },
  "language_info": {
   "codemirror_mode": {
    "name": "ipython",
    "version": 3
   },
   "file_extension": ".py",
   "mimetype": "text/x-python",
   "name": "python",
   "nbconvert_exporter": "python",
   "pygments_lexer": "ipython3",
   "version": "3.9.9"
  }
 },
 "nbformat": 4,
 "nbformat_minor": 5
}
